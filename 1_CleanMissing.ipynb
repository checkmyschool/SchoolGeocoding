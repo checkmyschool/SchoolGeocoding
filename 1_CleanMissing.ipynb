{
 "cells": [
  {
   "cell_type": "code",
   "execution_count": 1,
   "metadata": {},
   "outputs": [],
   "source": [
    "import pandas as pd"
   ]
  },
  {
   "cell_type": "code",
   "execution_count": 34,
   "metadata": {},
   "outputs": [
    {
     "data": {
      "text/html": [
       "<div>\n",
       "<style scoped>\n",
       "    .dataframe tbody tr th:only-of-type {\n",
       "        vertical-align: middle;\n",
       "    }\n",
       "\n",
       "    .dataframe tbody tr th {\n",
       "        vertical-align: top;\n",
       "    }\n",
       "\n",
       "    .dataframe thead th {\n",
       "        text-align: right;\n",
       "    }\n",
       "</style>\n",
       "<table border=\"1\" class=\"dataframe\">\n",
       "  <thead>\n",
       "    <tr style=\"text-align: right;\">\n",
       "      <th></th>\n",
       "      <th>school_id</th>\n",
       "      <th>region</th>\n",
       "      <th>division</th>\n",
       "      <th>district</th>\n",
       "      <th>school_name</th>\n",
       "      <th>street_address</th>\n",
       "    </tr>\n",
       "  </thead>\n",
       "  <tbody>\n",
       "    <tr>\n",
       "      <th>0</th>\n",
       "      <td>151009</td>\n",
       "      <td>Region I</td>\n",
       "      <td>La Union</td>\n",
       "      <td>Bauang North</td>\n",
       "      <td>EULOGIO CLARENCE M. DE GUZMAN Jr. ELEMENTARY S...</td>\n",
       "      <td>Pagdalagan Sur</td>\n",
       "    </tr>\n",
       "    <tr>\n",
       "      <th>1</th>\n",
       "      <td>100185</td>\n",
       "      <td>Region I</td>\n",
       "      <td>Ilocos Norte</td>\n",
       "      <td>Paoay</td>\n",
       "      <td>Nagbacalan ES</td>\n",
       "      <td>Nagbacalan</td>\n",
       "    </tr>\n",
       "    <tr>\n",
       "      <th>2</th>\n",
       "      <td>101299</td>\n",
       "      <td>Region I</td>\n",
       "      <td>Pangasinan I, Lingayen</td>\n",
       "      <td>Bayambang II</td>\n",
       "      <td>Paragos ES</td>\n",
       "      <td>Brgy. Paragos, Bayambang, Pangasinan</td>\n",
       "    </tr>\n",
       "    <tr>\n",
       "      <th>3</th>\n",
       "      <td>101146</td>\n",
       "      <td>Region I</td>\n",
       "      <td>Pangasinan I, Lingayen</td>\n",
       "      <td>Agno</td>\n",
       "      <td>San Juan Elementary School</td>\n",
       "      <td>San Juan Agno, Pangasinan</td>\n",
       "    </tr>\n",
       "    <tr>\n",
       "      <th>4</th>\n",
       "      <td>104056</td>\n",
       "      <td>Region II</td>\n",
       "      <td>Nueva Vizcaya</td>\n",
       "      <td>Dupax del Sur</td>\n",
       "      <td>Abaca ES</td>\n",
       "      <td>Abaca</td>\n",
       "    </tr>\n",
       "  </tbody>\n",
       "</table>\n",
       "</div>"
      ],
      "text/plain": [
       "  school_id     region                division       district  \\\n",
       "0    151009   Region I                La Union   Bauang North   \n",
       "1    100185   Region I            Ilocos Norte          Paoay   \n",
       "2    101299   Region I  Pangasinan I, Lingayen   Bayambang II   \n",
       "3    101146   Region I  Pangasinan I, Lingayen           Agno   \n",
       "4    104056  Region II           Nueva Vizcaya  Dupax del Sur   \n",
       "\n",
       "                                         school_name  \\\n",
       "0  EULOGIO CLARENCE M. DE GUZMAN Jr. ELEMENTARY S...   \n",
       "1                                      Nagbacalan ES   \n",
       "2                                         Paragos ES   \n",
       "3                         San Juan Elementary School   \n",
       "4                                           Abaca ES   \n",
       "\n",
       "                         street_address  \n",
       "0                        Pagdalagan Sur  \n",
       "1                            Nagbacalan  \n",
       "2  Brgy. Paragos, Bayambang, Pangasinan  \n",
       "3             San Juan Agno, Pangasinan  \n",
       "4                                 Abaca  "
      ]
     },
     "execution_count": 34,
     "metadata": {},
     "output_type": "execute_result"
    }
   ],
   "source": [
    "missing = pd.read_csv(\"./data/MissingSchools.csv\")\n",
    "missing['School ID'] = missing['School ID'].astype(int)\n",
    "missing = missing[['School ID']]\n",
    "missing.columns = ['school_id']\n",
    "\n",
    "addr = pd.read_csv(\"./data/SchoolAddresses.csv\")\n",
    "addr = addr[['Region', 'Division', 'District', 'School_id', 'School_name', 'street_address']]\n",
    "addr.columns = addr.columns.str.lower()\n",
    "addr.head()\n",
    "\n",
    "comb = pd.merge(missing, addr, how = 'left', on = 'school_id')\n",
    "comb.head()"
   ]
  },
  {
   "cell_type": "code",
   "execution_count": 35,
   "metadata": {},
   "outputs": [],
   "source": [
    "comb.to_csv(\"./data/MissingSchoolInfo.csv\")"
   ]
  }
 ],
 "metadata": {
  "kernelspec": {
   "display_name": "Python 3",
   "language": "python",
   "name": "python3"
  },
  "language_info": {
   "codemirror_mode": {
    "name": "ipython",
    "version": 3
   },
   "file_extension": ".py",
   "mimetype": "text/x-python",
   "name": "python",
   "nbconvert_exporter": "python",
   "pygments_lexer": "ipython3",
   "version": "3.7.4"
  }
 },
 "nbformat": 4,
 "nbformat_minor": 4
}
